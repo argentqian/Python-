{
 "cells": [
  {
   "cell_type": "markdown",
   "id": "26181b2e",
   "metadata": {},
   "source": [
    "#  Chapter 1 Ex.\n",
    "Problem 1, 3, 4"
   ]
  },
  {
   "cell_type": "markdown",
   "id": "cbf993d1",
   "metadata": {},
   "source": [
    "# Ex1"
   ]
  },
  {
   "cell_type": "code",
   "execution_count": 1,
   "id": "c1edf807",
   "metadata": {},
   "outputs": [
    {
     "name": "stdout",
     "output_type": "stream",
     "text": [
      "This is a test of the Python interpreter.\n"
     ]
    }
   ],
   "source": [
    "print('This is a test of the Python interpreter.')"
   ]
  },
  {
   "cell_type": "markdown",
   "id": "547b880f",
   "metadata": {},
   "source": [
    "# Ex3"
   ]
  },
  {
   "cell_type": "code",
   "execution_count": 7,
   "id": "33cb39bd",
   "metadata": {},
   "outputs": [
    {
     "data": {
      "text/plain": [
       "('0b1011', '0b1000001', '0b1100100', '0b11111111')"
      ]
     },
     "execution_count": 7,
     "metadata": {},
     "output_type": "execute_result"
    }
   ],
   "source": [
    "bin(11),bin(65),bin(100),bin(255)"
   ]
  },
  {
   "cell_type": "markdown",
   "id": "8570e6a0",
   "metadata": {},
   "source": [
    "# Ex4"
   ]
  },
  {
   "cell_type": "code",
   "execution_count": 12,
   "id": "9ab26853",
   "metadata": {},
   "outputs": [
    {
     "data": {
      "text/plain": [
       "(13, 8, 43)"
      ]
     },
     "execution_count": 12,
     "metadata": {},
     "output_type": "execute_result"
    }
   ],
   "source": [
    "int('1101',2),int('1000',2),int('101011',2)"
   ]
  }
 ],
 "metadata": {
  "kernelspec": {
   "display_name": "Python 3 (ipykernel)",
   "language": "python",
   "name": "python3"
  },
  "language_info": {
   "codemirror_mode": {
    "name": "ipython",
    "version": 3
   },
   "file_extension": ".py",
   "mimetype": "text/x-python",
   "name": "python",
   "nbconvert_exporter": "python",
   "pygments_lexer": "ipython3",
   "version": "3.11.5"
  }
 },
 "nbformat": 4,
 "nbformat_minor": 5
}
