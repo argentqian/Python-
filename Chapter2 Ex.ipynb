{
 "cells": [
  {
   "cell_type": "markdown",
   "id": "ff6bd020",
   "metadata": {},
   "source": [
    "# Chapter 2 \n",
    "Algorithm Workbench 1\n",
    "Programming exercise 1, 2, 3"
   ]
  },
  {
   "cell_type": "markdown",
   "id": "a1e8372d",
   "metadata": {},
   "source": [
    "## Algorithm Workbench 1 \n",
    "Write Python code that prompts the users to enter his or her height and assigns the user's input to a variable named height "
   ]
  },
  {
   "cell_type": "code",
   "execution_count": 4,
   "id": "ec977969",
   "metadata": {},
   "outputs": [
    {
     "name": "stdout",
     "output_type": "stream",
     "text": [
      "Please enter your height in feet:\n",
      "6.5\n"
     ]
    }
   ],
   "source": [
    "#get the height of the user in feet\n",
    "print('Please enter your height in feet:') \n",
    "#wait user input the value of height in feet \n",
    "height = input()"
   ]
  },
  {
   "cell_type": "code",
   "execution_count": 5,
   "id": "5a2d78c6",
   "metadata": {},
   "outputs": [
    {
     "name": "stdout",
     "output_type": "stream",
     "text": [
      "6.5\n"
     ]
    }
   ],
   "source": [
    "print(height)"
   ]
  },
  {
   "cell_type": "markdown",
   "id": "ac465591",
   "metadata": {},
   "source": [
    "## Programming Exercises 1\n",
    "Write a program that displays the following information: \n",
    "Your name: \n",
    "Your address, with city, state and ZIP:\n",
    "Your telephone number:\n",
    "Your college Major: "
   ]
  },
  {
   "cell_type": "code",
   "execution_count": 6,
   "id": "2289281d",
   "metadata": {},
   "outputs": [
    {
     "name": "stdout",
     "output_type": "stream",
     "text": [
      "Argent Qian 4060 Springer Way, East Lansing, 48823 phone:(585)-532-8837 Mayjoring in Hospitality business\n"
     ]
    }
   ],
   "source": [
    "#information for Argent Qian will be displayed, address, phone number and college major. \n",
    "print(\"Argent Qian\",'4060 Springer Way, East Lansing, 48823','phone:(585)-532-8837','Mayjoring in Hospitality business')"
   ]
  },
  {
   "cell_type": "markdown",
   "id": "a2451891",
   "metadata": {},
   "source": [
    "# Programming Exercise 2\n",
    "Sales Prediction\n",
    "A company has determined that its annual profit is typically 23 percent of total sales. Write a program that asks the user to enter the projected amount of total sales, then displays the profit that will be made from that amount. "
   ]
  },
  {
   "cell_type": "code",
   "execution_count": 7,
   "id": "e20698af",
   "metadata": {},
   "outputs": [
    {
     "name": "stdout",
     "output_type": "stream",
     "text": [
      "Please enter total sales of the company:\n",
      "1000000000000\n"
     ]
    }
   ],
   "source": [
    "#get total sales of the company\n",
    "print('Please enter total sales of the company:')\n",
    "#wait user input the value of totals of the company \n",
    "total_sales = input()"
   ]
  },
  {
   "cell_type": "code",
   "execution_count": 8,
   "id": "0fec8eaf",
   "metadata": {},
   "outputs": [
    {
     "name": "stdout",
     "output_type": "stream",
     "text": [
      "230000000000.0\n"
     ]
    }
   ],
   "source": [
    "#the annual profit of the company will be calculated by *0.23 of the user's input\n",
    "annual_profit = 0.23 * float(total_sales)\n",
    "print(annual_profit)\n",
    "#the annual profit of the company will be displayed "
   ]
  },
  {
   "cell_type": "markdown",
   "id": "796082d8",
   "metadata": {},
   "source": [
    "# Programming Exercise 13\n"
   ]
  },
  {
   "cell_type": "code",
   "execution_count": 9,
   "id": "8bb0d227",
   "metadata": {},
   "outputs": [
    {
     "name": "stdout",
     "output_type": "stream",
     "text": [
      "Please enter the length of the row, in feet: 66\n",
      "Please enter the amount of space used by an end-post assembly, in feet: 12\n",
      "Please enter the amount of space between the vines, in feet: 3\n",
      "The number of grapevines that will fit in the row is: 14.0\n"
     ]
    }
   ],
   "source": [
    "R = float(input(\"Please enter the length of the row, in feet: \"))\n",
    "E = float(input(\"Please enter the amount of space used by an end-post assembly, in feet: \"))\n",
    "S = float(input(\"Please enter the amount of space between the vines, in feet: \"))\n",
    "V = (R - 2 * E)/S\n",
    "print(\"The number of grapevines that will fit in the row is:\",V)"
   ]
  }
 ],
 "metadata": {
  "kernelspec": {
   "display_name": "Python 3 (ipykernel)",
   "language": "python",
   "name": "python3"
  },
  "language_info": {
   "codemirror_mode": {
    "name": "ipython",
    "version": 3
   },
   "file_extension": ".py",
   "mimetype": "text/x-python",
   "name": "python",
   "nbconvert_exporter": "python",
   "pygments_lexer": "ipython3",
   "version": "3.11.5"
  }
 },
 "nbformat": 4,
 "nbformat_minor": 5
}
