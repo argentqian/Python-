{
 "cells": [
  {
   "cell_type": "markdown",
   "id": "b0d5989d",
   "metadata": {},
   "source": [
    "# Chapter 7 Excerise\n",
    "Algorithm Workbench1, 2\n",
    "Programming Exercise 1, 2, 3, 14 \n"
   ]
  },
  {
   "cell_type": "markdown",
   "id": "3cc27b93",
   "metadata": {},
   "source": [
    "# Algorithm Workbench 1\n",
    "Write a statement that creates a list with the following strings: 'Einstein','Newton', 'Copernicus', and 'Kepler' "
   ]
  },
  {
   "cell_type": "code",
   "execution_count": 10,
   "id": "49ead3eb",
   "metadata": {},
   "outputs": [
    {
     "name": "stdout",
     "output_type": "stream",
     "text": [
      "['Einstein', 'Newton', 'Copernicus', 'Kepler']\n"
     ]
    }
   ],
   "source": [
    "# Create a list with the names of four scientists.\n",
    "scientists = ['Einstein', 'Newton', 'Copernicus', 'Kepler']\n",
    "print(scientists)\n"
   ]
  },
  {
   "cell_type": "markdown",
   "id": "6f586ca3",
   "metadata": {},
   "source": [
    "Explannation: in this line of code, we're making a shopping list, but instead of food, we're listing famous scientists. We start by making an empty shopping basket called scientists. Then we put four names in it: 'Einstein', 'Newton', 'Copernicus', and 'Kepler', like picking up items and putting them in our basket. "
   ]
  },
  {
   "cell_type": "markdown",
   "id": "416f324d",
   "metadata": {},
   "source": [
    "# Algorithm Workbench 2\n",
    "Assume names references a list. write a for loop that displays each element of the list"
   ]
  },
  {
   "cell_type": "code",
   "execution_count": 11,
   "id": "42b60a91",
   "metadata": {},
   "outputs": [
    {
     "name": "stdout",
     "output_type": "stream",
     "text": [
      "Einstein\n",
      "Newton\n",
      "Copernicus\n",
      "Kepler\n"
     ]
    }
   ],
   "source": [
    "# Assume 'names' is a list that has already been created with some elements in it.\n",
    "names = ['Einstein', 'Newton', 'Copernicus', 'Kepler']\n",
    "\n",
    "# The 'for' loop starts here. 'name' is a temporary variable that takes the value of each element in the list, one at a time.\n",
    "for name in names:\n",
    "    # Print the current element pointed to by 'name'.\n",
    "    print(name)\n"
   ]
  },
  {
   "cell_type": "markdown",
   "id": "a3f7d460",
   "metadata": {},
   "source": [
    "Explannation: this code functions like a show-and-tell for each item in our names list. We start at the beginning of our list, and for each item, we take it out and show it. The line for name in names: tells Python to start at the beginning of the names list and to do something with each item. The word name is a helper that refers to the current item we're looking at. Inside the loop, print(name) is our way of showing each item. "
   ]
  },
  {
   "cell_type": "markdown",
   "id": "f434d131",
   "metadata": {},
   "source": [
    "# Programming Exercises 1 \n",
    "Total Sales, design a program that ask the user to enter a store's sales for each day of the week,the amount should be stored in a list. use a loop to calculate the total sales for the week and display the result"
   ]
  },
  {
   "cell_type": "code",
   "execution_count": 13,
   "id": "29fac125",
   "metadata": {},
   "outputs": [
    {
     "name": "stdout",
     "output_type": "stream",
     "text": [
      "Enter the sales for Sunday: 88888\n",
      "Enter the sales for Monday: 77777\n",
      "Enter the sales for Tuesday: 66666\n",
      "Enter the sales for Wednesday: 55555\n",
      "Enter the sales for Thursday: 44444\n",
      "Enter the sales for Friday: 33333\n",
      "Enter the sales for Saturday: 22222\n",
      "The total sales for the week are: $388885.0\n"
     ]
    }
   ],
   "source": [
    "# Initialize  list to hold the sales for each day\n",
    "sales_for_the_week = []\n",
    "\n",
    "# Initialize a variable to keep track of the total sales\n",
    "total_sales = 0\n",
    "\n",
    "# List of days in the week for user prompts\n",
    "days_of_the_week = ['Sunday', 'Monday', 'Tuesday', 'Wednesday', 'Thursday', 'Friday', 'Saturday']\n",
    "\n",
    "# Loop over each day of the week\n",
    "for day in days_of_the_week:\n",
    "    # Ask the user to enter the sales for the current day and store it as a float\n",
    "    # The float function is used to convert the string input to a number\n",
    "    daily_sales = float(input(f\"Enter the sales for {day}: \"))\n",
    "    \n",
    "    # Add the daily sales to the list of sales for the week\n",
    "    sales_for_the_week.append(daily_sales)\n",
    "\n",
    "# Loop over the sales for each day to calculate the total sales\n",
    "for daily_sales in sales_for_the_week:\n",
    "    # Add the daily sales to the total sales\n",
    "    total_sales += daily_sales\n",
    "\n",
    "# Display the total sales for the week\n",
    "print(f\"The total sales for the week are: ${total_sales}\")\n",
    "\n"
   ]
  },
  {
   "cell_type": "markdown",
   "id": "57be5102",
   "metadata": {},
   "source": [
    "Explannation: This program is like a digital cashier that keeps track of sales each day and adds them up at the end of the week. Imagine you tell the cashier how much you sold every day from Sunday to Saturday. For each day, the cashier writes down that amount in a notebook "
   ]
  },
  {
   "cell_type": "markdown",
   "id": "1107757a",
   "metadata": {},
   "source": [
    "# Programming Exercise 2\n",
    "Lottery Number Generator: Design a program that generates a seven-digit lottery number. the program should generate seven random numbers, each in the range of 0 through 9, and assign each number to a list element. then write another loop that displays the contents of the list"
   ]
  },
  {
   "cell_type": "code",
   "execution_count": 8,
   "id": "f7dd9ae6",
   "metadata": {},
   "outputs": [
    {
     "name": "stdout",
     "output_type": "stream",
     "text": [
      "8040935"
     ]
    }
   ],
   "source": [
    "import random  # Import the random module, which contains functions to generate random numbers\n",
    "\n",
    "# Create an empty list to store the number\n",
    "lottery_numbers = []\n",
    "\n",
    "# Generate seven random numbers and add them to the list.\n",
    "for i in range(7):  \n",
    "    number = random.randint(0, 9)  # Generate a random number between 0 and 9.\n",
    "    lottery_numbers.append(number)  # Add the random number to the list\n",
    "\n",
    "# Display the contents of the lottery numbers list.\n",
    "for number in lottery_numbers:\n",
    "    print(number, end='')  # Print each number without a space in between and no new line at the end.\n"
   ]
  },
  {
   "cell_type": "markdown",
   "id": "d344ba6e",
   "metadata": {},
   "source": [
    "Explannation: this program is like rolling a tiny 10-sided dice (with sides numbered from 0 to 9) seven times to come up with a lottery number. We start by getting ready with an empty list to hold our lucky numbers. Then, we roll our dice seven times. Each time we roll the dice, we get a random number and add it to our list."
   ]
  },
  {
   "cell_type": "markdown",
   "id": "2f49bf76",
   "metadata": {},
   "source": [
    "# Programming Exercise 3\n",
    "Rainfall statistics: Design a program that lets the user enter the total rainfall for each of 12 months into a list. the program should calculate and display the total rainfall for the year, the average monthly rainfall, the months with the hightest and the lowest amounts."
   ]
  },
  {
   "cell_type": "code",
   "execution_count": 16,
   "id": "939d60fc",
   "metadata": {},
   "outputs": [
    {
     "name": "stdout",
     "output_type": "stream",
     "text": [
      "Enter the rainfall amount for January in mm: 22\n",
      "Enter the rainfall amount for February in mm: 33\n",
      "Enter the rainfall amount for March in mm: 66\n",
      "Enter the rainfall amount for April in mm: 66\n",
      "Enter the rainfall amount for May in mm: 88\n",
      "Enter the rainfall amount for June in mm: 99\n",
      "Enter the rainfall amount for July in mm: 22\n",
      "Enter the rainfall amount for August in mm: 33\n",
      "Enter the rainfall amount for September in mm: 33\n",
      "Enter the rainfall amount for October in mm: 11\n",
      "Enter the rainfall amount for November in mm: 11\n",
      "Enter the rainfall amount for December in mm: 88\n",
      "Total rainfall for the year: 572.0 mm\n",
      "Average monthly rainfall: 47.67 mm\n",
      "Highest rainfall was in June with 99.0 mm.\n",
      "Lowest rainfall was in October with 11.0 mm.\n"
     ]
    }
   ],
   "source": [
    "# Initialize a list to store monthly rainfall\n",
    "rainfall_per_month = []\n",
    "\n",
    "# Initialize variables to store the names\n",
    "months = [\"January\", \"February\", \"March\", \"April\", \"May\", \"June\",\n",
    "          \"July\", \"August\", \"September\", \"October\", \"November\", \"December\"]\n",
    "\n",
    "# Ask the user to enter the rainfall for each month.\n",
    "for month in months:\n",
    "    rainfall = float(input(f\"Enter the rainfall amount for {month} in mm: \"))\n",
    "    # Add the inputted rainfall to the list.\n",
    "    rainfall_per_month.append(rainfall)\n",
    "\n",
    "# Calculate the total rainfall for the year.\n",
    "total_rainfall = sum(rainfall_per_month)\n",
    "\n",
    "# Calculate the average monthly rainfall\n",
    "average_rainfall = total_rainfall / len(months)\n",
    "\n",
    "# Find the highest amount of rainfall and its month.\n",
    "highest_rainfall = max(rainfall_per_month)\n",
    "month_highest = months[rainfall_per_month.index(highest_rainfall)]\n",
    "\n",
    "# Find the lowest amount of rainfall and its month.\n",
    "lowest_rainfall = min(rainfall_per_month)\n",
    "month_lowest = months[rainfall_per_month.index(lowest_rainfall)]\n",
    "\n",
    "# Print out the total, average, highest, and lowest rainfall amounts and their corresponding months.\n",
    "print(f\"Total rainfall for the year: {total_rainfall} mm\")\n",
    "print(f\"Average monthly rainfall: {average_rainfall:.2f} mm\")\n",
    "print(f\"Highest rainfall was in {month_highest} with {highest_rainfall} mm.\")\n",
    "print(f\"Lowest rainfall was in {month_lowest} with {lowest_rainfall} mm.\")\n"
   ]
  },
  {
   "cell_type": "markdown",
   "id": "fcc98223",
   "metadata": {},
   "source": [
    "Explannations; the program works like a journal that keeps track of the rain each month. Imagine going through the year, and for each month, you write down how much rain fell. At the end of the year, you look back at what you wrote to see how much rain fell in total and what the average rain was for a month."
   ]
  },
  {
   "cell_type": "markdown",
   "id": "ab213b94",
   "metadata": {},
   "source": [
    "# Programming Excerise 14\n",
    "Create a text file that contains your expenses for last month in the following categories:  Rent, Gas, Food, Clothing, Car payment, Misc, wirte a python program that reads the data from the file and uses matplotilib to plot a pie chart showing how you spend your money."
   ]
  },
  {
   "cell_type": "code",
   "execution_count": 18,
   "id": "72b87334",
   "metadata": {},
   "outputs": [
    {
     "name": "stdout",
     "output_type": "stream",
     "text": [
      "Enter your Rent expenses for the last month: 1040\n",
      "Enter your Gas expenses for the last month: 300\n",
      "Enter your Food expenses for the last month: 800\n",
      "Enter your Clothing expenses for the last month: 200\n",
      "Enter your Car payment expenses for the last month: 199\n",
      "Enter your Misc expenses for the last month: 100\n"
     ]
    },
    {
     "data": {
      "text/plain": [
       "Text(0.5, 1.0, 'Monthly Expenses')"
      ]
     },
     "execution_count": 18,
     "metadata": {},
     "output_type": "execute_result"
    },
    {
     "data": {
      "image/png": "[encoded data removed]",
      "text/plain": [
       "<Figure size 640x480 with 1 Axes>"
      ]
     },
     "metadata": {},
     "output_type": "display_data"
    }
   ],
   "source": [
    "import matplotlib.pyplot as plt\n",
    "\n",
    "# Initialize a dictionary to store the expense categories and amounts\n",
    "expenses = {}\n",
    "\n",
    "categories = [\"Rent\", \"Gas\", \"Food\", \"Clothing\", \"Car payment\", \"Misc\"]\n",
    "\n",
    "# Ask the user to enter their expenses for each category\n",
    "for category in categories:\n",
    "    expense_amount = float(input(f\"Enter your {category} expenses for the last month: \"))\n",
    "    expenses[category] = expense_amount\n",
    "\n",
    "# Now, let's plot a pie chart with the input data\n",
    "amounts = list(expenses.values())\n",
    "\n",
    "# Create a pie chart\n",
    "plt.pie(amounts, labels=categories, autopct='%1.1f%%', startangle=140)\n",
    "\n",
    "# Set the title of the pie chart\n",
    "plt.title('Monthly Expenses')\n",
    "\n",
    "# display the pie chart\n"
   ]
  },
  {
   "cell_type": "markdown",
   "id": "91e2002b",
   "metadata": {},
   "source": [
    "Explannation: the program acts like a visual artist who wants to make a drawing (pie chart) to show how you spend your money in different areas like rent, gas, and food. It looks at the list of expenses you gave it, takes each item and how much you spent on it, and then draws a big circle (pie). Each slice of the pie represents one type of expense, and the size of the slice depends on how much you spent there compared to the total."
   ]
  }
 ],
 "metadata": {
  "kernelspec": {
   "display_name": "Python 3 (ipykernel)",
   "language": "python",
   "name": "python3"
  },
  "language_info": {
   "codemirror_mode": {
    "name": "ipython",
    "version": 3
   },
   "file_extension": ".py",
   "mimetype": "text/x-python",
   "name": "python",
   "nbconvert_exporter": "python",
   "pygments_lexer": "ipython3",
   "version": "3.11.5"
  }
 },
 "nbformat": 4,
 "nbformat_minor": 5
}
