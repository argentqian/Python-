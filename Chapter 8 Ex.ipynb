{
 "cells": [
  {
   "cell_type": "markdown",
   "id": "e53173e3",
   "metadata": {},
   "source": [
    "# Chapter 8 Excerise\n",
    "Algorithm Workbench 1, 2\n",
    "Programming Exercises 1, 2, 3, 4"
   ]
  },
  {
   "cell_type": "markdown",
   "id": "617d3c46",
   "metadata": {},
   "source": [
    "# Algorithm Workbench 1\n",
    "Rewrite \"if choice == 'Y' or choice == 'y' so it only makes one comparison"
   ]
  },
  {
   "cell_type": "code",
   "execution_count": 3,
   "id": "86953484",
   "metadata": {},
   "outputs": [],
   "source": [
    "# Check if the choice is 'y' \n",
    "if choice.lower() == 'y':\n",
    "    # The code here will run if choice is 'y' or 'Y'\n",
    "    pass  # Replace 'pass' with actual code to be executed if the choice is 'y' or 'Y'\n",
    "\n",
    "\n"
   ]
  },
  {
   "cell_type": "markdown",
   "id": "3d55def1",
   "metadata": {},
   "source": [
    "Explannation: both versions of the code take the user's choice and convert it to a single case, either all lowercase or all uppercase, using lower() or upper() \n"
   ]
  },
  {
   "cell_type": "markdown",
   "id": "c1abaf56",
   "metadata": {},
   "source": [
    "# Algorithm Workbench 2\n",
    "Write a loop that counts the number of space characters that appear in the string referenced by mystring"
   ]
  },
  {
   "cell_type": "code",
   "execution_count": 5,
   "id": "1c0146ac",
   "metadata": {},
   "outputs": [
    {
     "name": "stdout",
     "output_type": "stream",
     "text": [
      "Please enter a string: 65266 \n",
      "The number of spaces is: 1\n"
     ]
    }
   ],
   "source": [
    "# Ask the user for a string and store it in the variable 'mystring'.\n",
    "mystring = input(\"Please enter a string: \")\n",
    "\n",
    "# Initialize a counter to 0. This will keep track of the number of spaces.\n",
    "space_count = 0\n",
    "\n",
    "# Loop over each character in the string that the user entered.\n",
    "for character in mystring:\n",
    "    # Check if the current character is a space.\n",
    "    if character == ' ':\n",
    "        # If it is a space, add one to the counter.\n",
    "        space_count += 1\n",
    "\n",
    "# After the loop is finished, print out the total count of spaces.\n",
    "print(f\"The number of spaces is: {space_count}\")\n"
   ]
  },
  {
   "cell_type": "markdown",
   "id": "411ea65e",
   "metadata": {},
   "source": [
    "Explannation:  this code is like a game where you ask someone to write a sentence, and then you count how many times they pressed the spacebar while writing it. You go through the sentence letter by letter, and each time you see a space, you add one to your space counter. After you've checked every letter, it announce the total count of spaces."
   ]
  },
  {
   "cell_type": "markdown",
   "id": "b36704d8",
   "metadata": {},
   "source": [
    "# Programming Exercise 1\n",
    "Initials: write a program that gets a string containing a person's first, middle, and last names, and displays their first, middle, and last initials."
   ]
  },
  {
   "cell_type": "code",
   "execution_count": 7,
   "id": "f2aac8b4",
   "metadata": {},
   "outputs": [
    {
     "name": "stdout",
     "output_type": "stream",
     "text": [
      "Please enter your first, middle, and last names: Argent, Xiao, Qian\n",
      "Your initials are: A. X. Q. \n"
     ]
    }
   ],
   "source": [
    "# Ask the user for their first, middle, and last name\n",
    "full_name = input(\"Please enter your first, middle, and last names: \")\n",
    "# Split the full name into a list of names\n",
    "names = full_name.split()\n",
    "# Initialize an empty string to store the initials\n",
    "initials = \"\"\n",
    "# Loop through each name in the list of names\n",
    "for name in names:\n",
    "    # Take the first letter of each name and add it to the initials string\n",
    "    initials += name[0].upper() + \". \"\n",
    "    \n",
    "# Print out the initials\n",
    "print(f\"Your initials are: {initials}\")\n"
   ]
  },
  {
   "cell_type": "markdown",
   "id": "d0f1b166",
   "metadata": {},
   "source": [
    "Explannation: The program asks you to type in your first, middle, and last names. It then splits what you typed into separate pieces wherever there's a space—that gives us each name separately. It creates a little space to keep your initials. For each part of the name you gave, it picks out the first letter, turns it into a big letter. \n",
    "\n"
   ]
  },
  {
   "cell_type": "markdown",
   "id": "8c59e21d",
   "metadata": {},
   "source": [
    "# Programming Exercise 2\n",
    "Sum of Digits in a String: write a program that asks the user to enter a series of single - digit numbers with nothing separating them. the program should display the sum of all the single digit numbers in the string."
   ]
  },
  {
   "cell_type": "code",
   "execution_count": 9,
   "id": "96f2b419",
   "metadata": {},
   "outputs": [
    {
     "name": "stdout",
     "output_type": "stream",
     "text": [
      "Enter a series of single-digit numbers with nothing separating them: 883616\n",
      "The sum of the digits is: 32\n"
     ]
    }
   ],
   "source": [
    "# Ask the user to enter a series of single-digit numbers with nothing separating them\n",
    "numbers_string = input(\"Enter a series of single-digit numbers with nothing separating them: \")\n",
    "\n",
    "# Initialize the sum to 0\n",
    "total_sum = 0\n",
    "\n",
    "# Loop over each character in the input string\n",
    "for digit in numbers_string:\n",
    "    # Add the integer value of the digit to the total sum\n",
    "    total_sum += int(digit)\n",
    "\n",
    "# Print the sum of all the single digit numbers\n",
    "print(f\"The sum of the digits is: {total_sum}\")\n",
    "\n",
    "\n"
   ]
  },
  {
   "cell_type": "markdown",
   "id": "62a683c1",
   "metadata": {},
   "source": [
    "ExplannationL: This program works like a digital calculator that adds up numbers. First, it asks you to type in a bunch of single-digit numbers all squished together (like \"2514\"). Then it starts at the beginning of what you typed and looks at each single digit one at a time. It takes that digit, turns it into a number (since it's actually text when you type it), and adds it to a running total.\n"
   ]
  },
  {
   "cell_type": "markdown",
   "id": "a613f168",
   "metadata": {},
   "source": [
    "# Programming Exercise 3 \n",
    "Date Printer: write a program that reads a string from the user containing a table in the form mm/dd/yyyy, it should print the date in the format March 12, 2018\n"
   ]
  },
  {
   "cell_type": "code",
   "execution_count": 11,
   "id": "8429c57c",
   "metadata": {},
   "outputs": [
    {
     "name": "stdout",
     "output_type": "stream",
     "text": [
      "Please enter a date in mm/dd/yyyy format: 08/01/1999\n",
      "The date is: August 1, 1999\n"
     ]
    }
   ],
   "source": [
    "# Ask the user to enter a date in mm/dd/yyyy format\n",
    "date_string = input(\"Please enter a date in mm/dd/yyyy format: \")\n",
    "\n",
    "# Split the date string into its components: month, day, year\n",
    "month, day, year = date_string.split('/')\n",
    "# Convert the month from a number to the name of the month\n",
    "months = [\"January\", \"February\", \"March\", \"April\", \"May\", \"June\",\n",
    "          \"July\", \"August\", \"September\", \"October\", \"November\", \"December\"]\n",
    "month_name = months[int(month) - 1]  # subtract 1 because list indexes start at 0\n",
    "# Print the date in \"Month day, year\" format\n",
    "print(f\"The date is: {month_name} {int(day)}, {year}\")\n"
   ]
  },
  {
   "cell_type": "markdown",
   "id": "6994423d",
   "metadata": {},
   "source": [
    "Explannation: It starts by asking you to type in the date with numbers (like \"03/12/2018\" for March 12, 2018). It then cuts that date into three parts: month, day, and year. It looks up the name of the month in a list - that's like having a calendar in its memory to match the number \"03\" to \"March\". Then, it shows you the date with the month's name, the day, and the year (like \"March 12, 2018\").\n"
   ]
  },
  {
   "cell_type": "markdown",
   "id": "d637624a",
   "metadata": {},
   "source": [
    "# Programming Exercise 4\n",
    "Morse code converter: write a program that asks the user to enter a string, then converts that string to morse code \n"
   ]
  },
  {
   "cell_type": "code",
   "execution_count": 12,
   "id": "61edfc47",
   "metadata": {},
   "outputs": [
    {
     "name": "stdout",
     "output_type": "stream",
     "text": [
      "Enter a string to convert to Morse code: 54164654161316\n",
      "Morse code: ..... ....- .---- -.... ....- -.... ..... ....- .---- -.... .---- ...-- .---- -.... \n"
     ]
    }
   ],
   "source": [
    "# convert the Morse code dictionary with ChatGPT\n",
    "morse_code_dict = {\n",
    "    'A': '.-', 'B': '-...', 'C': '-.-.', 'D': '-..', 'E': '.', \n",
    "    'F': '..-.', 'G': '--.', 'H': '....', 'I': '..', 'J': '.---', \n",
    "    'K': '-.-', 'L': '.-..', 'M': '--', 'N': '-.', 'O': '---', \n",
    "    'P': '.--.', 'Q': '--.-', 'R': '.-.', 'S': '...', 'T': '-', \n",
    "    'U': '..-', 'V': '...-', 'W': '.--', 'X': '-..-', 'Y': '-.--', \n",
    "    'Z': '--..', '1': '.----', '2': '..---', '3': '...--', '4': '....-', \n",
    "    '5': '.....', '6': '-....', '7': '--...', '8': '---..', '9': '----.', \n",
    "    '0': '-----', ',': '--..--', '.': '.-.-.-', '?': '..--..', ' ': ' '\n",
    "}\n",
    "# Ask the user to enter a string\n",
    "input_string = input(\"Enter a string to convert to Morse code: \").upper()\n",
    "\n",
    "# Initialize an empty string to hold the code\n",
    "morse_code_string = \"\"\n",
    "# Loop through each character in the input string\n",
    "for character in input_string:\n",
    "    # If the character is in our Morse code dictionary\n",
    "    if character in morse_code_dict:\n",
    "        # Add the Morse code for the character to the Morse code string\n",
    "        morse_code_string += morse_code_dict[character] + \" \"\n",
    "    else:\n",
    "        # If the character is not in the dictionary, it's not a valid Morse code character\n",
    "        morse_code_string += '? '\n",
    "\n",
    "# Print the Morse code string\n",
    "print(f\"Morse code: {morse_code_string}\")\n"
   ]
  },
  {
   "cell_type": "markdown",
   "id": "007a72d1",
   "metadata": {},
   "source": [
    "Explannation: First, it has a dictionary that works like a secret codebook, matching each letter and number with its Morse code.\n",
    "It asks you to type something that you want to translate into this secret code. Then it goes through what you typed letter by letter, finds each letter's secret code in the codebook, and puts all those secret codes together into a new message. If it finds a letter that it doesn't have a secret code for, it just puts a question mark '?'. than it shows you the whole message in Morse code."
   ]
  }
 ],
 "metadata": {
  "kernelspec": {
   "display_name": "Python 3 (ipykernel)",
   "language": "python",
   "name": "python3"
  },
  "language_info": {
   "codemirror_mode": {
    "name": "ipython",
    "version": 3
   },
   "file_extension": ".py",
   "mimetype": "text/x-python",
   "name": "python",
   "nbconvert_exporter": "python",
   "pygments_lexer": "ipython3",
   "version": "3.11.5"
  }
 },
 "nbformat": 4,
 "nbformat_minor": 5
}
