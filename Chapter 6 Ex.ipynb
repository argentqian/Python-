{
 "cells": [
  {
   "cell_type": "markdown",
   "id": "1e5bce66",
   "metadata": {},
   "source": [
    "# Chapter 6 Exercises \n",
    "Algorithm Workbench 1, 2\n",
    "Programming Exercises 1, 6, 9, 10 "
   ]
  },
  {
   "cell_type": "markdown",
   "id": "25ab2e9c",
   "metadata": {},
   "source": [
    "# Algorithm Workbench 1\n",
    "write a program that opens an output file with the filename my_name.txt , write my name Argent to the file"
   ]
  },
  {
   "cell_type": "code",
   "execution_count": 4,
   "id": "6f6564dd",
   "metadata": {},
   "outputs": [],
   "source": [
    "# Open the file at the specified path in 'write' mode.\n",
    "with open('C:/Users/Administrator/Desktop/Python作业/my_name.txt', 'w') as file:\n",
    "    # Write the string 'Argent' to the file.\n",
    "    file.write('Argent')\n",
    "    # No need to manually close the file; it's automatically done when the 'with' block is exited."
   ]
  },
  {
   "cell_type": "markdown",
   "id": "e5d1bc46",
   "metadata": {},
   "source": [
    "Explanation:we use the write method to add the text \"Argent\" into the file. Once the with block is completed, the file is automatically closed, meaning the writing process is safely finished and the file is saved with the new content."
   ]
  },
  {
   "cell_type": "markdown",
   "id": "15aacc8c",
   "metadata": {},
   "source": [
    "# Algorithm workbench 2\n",
    "write a program that read my name in the file then print"
   ]
  },
  {
   "cell_type": "code",
   "execution_count": 5,
   "id": "7c05975e",
   "metadata": {},
   "outputs": [
    {
     "name": "stdout",
     "output_type": "stream",
     "text": [
      "Argent\n"
     ]
    }
   ],
   "source": [
    "# Open the file 'my_name.txt' in read mode. 'r' means read.\n",
    "with open('C:/Users/Administrator/Desktop/Python作业/my_name.txt', 'r') as file:\n",
    "    # Read the name from the file and store it in the variable 'name'.\n",
    "    name = file.read()\n",
    "    # Display the name on the screen.\n",
    "    print(name)\n",
    "# The file is automatically closed when we exit the 'with' block."
   ]
  },
  {
   "cell_type": "markdown",
   "id": "b946af49",
   "metadata": {},
   "source": [
    "Explanation: the code opens the file named my_name.txt using a with statement, which is a way to ensure that resources are managed correctly in Python; in this case, it ensures the file is closed after we're done with it. We open the file in 'read' mode ('r'), which allows us to read its contents."
   ]
  },
  {
   "cell_type": "markdown",
   "id": "66e6652d",
   "metadata": {},
   "source": [
    "# Programming Exercise 1\n",
    "file display, write a program that displays all the number in a assumed file: numbers.txt"
   ]
  },
  {
   "cell_type": "code",
   "execution_count": 6,
   "id": "4549300e",
   "metadata": {},
   "outputs": [
    {
     "ename": "FileNotFoundError",
     "evalue": "[Errno 2] No such file or directory: 'numbers.txt'",
     "output_type": "error",
     "traceback": [
      "\u001b[1;31m---------------------------------------------------------------------------\u001b[0m",
      "\u001b[1;31mFileNotFoundError\u001b[0m                         Traceback (most recent call last)",
      "Cell \u001b[1;32mIn[6], line 2\u001b[0m\n\u001b[0;32m      1\u001b[0m \u001b[38;5;66;03m# Open the file 'numbers.txt' in read mode. 'r' means read.\u001b[39;00m\n\u001b[1;32m----> 2\u001b[0m \u001b[38;5;28;01mwith\u001b[39;00m \u001b[38;5;28mopen\u001b[39m(\u001b[38;5;124m'\u001b[39m\u001b[38;5;124mnumbers.txt\u001b[39m\u001b[38;5;124m'\u001b[39m, \u001b[38;5;124m'\u001b[39m\u001b[38;5;124mr\u001b[39m\u001b[38;5;124m'\u001b[39m) \u001b[38;5;28;01mas\u001b[39;00m file:\n\u001b[0;32m      3\u001b[0m     \u001b[38;5;66;03m# Read each line in the file\u001b[39;00m\n\u001b[0;32m      4\u001b[0m     \u001b[38;5;28;01mfor\u001b[39;00m line \u001b[38;5;129;01min\u001b[39;00m file:\n\u001b[0;32m      5\u001b[0m         \u001b[38;5;66;03m# Since each line represents an integer, we remove any trailing newline characters using strip()\u001b[39;00m\n\u001b[0;32m      6\u001b[0m         number \u001b[38;5;241m=\u001b[39m line\u001b[38;5;241m.\u001b[39mstrip()\n",
      "File \u001b[1;32mC:\\ProgramData\\anaconda3\\Lib\\site-packages\\IPython\\core\\interactiveshell.py:286\u001b[0m, in \u001b[0;36m_modified_open\u001b[1;34m(file, *args, **kwargs)\u001b[0m\n\u001b[0;32m    279\u001b[0m \u001b[38;5;28;01mif\u001b[39;00m file \u001b[38;5;129;01min\u001b[39;00m {\u001b[38;5;241m0\u001b[39m, \u001b[38;5;241m1\u001b[39m, \u001b[38;5;241m2\u001b[39m}:\n\u001b[0;32m    280\u001b[0m     \u001b[38;5;28;01mraise\u001b[39;00m \u001b[38;5;167;01mValueError\u001b[39;00m(\n\u001b[0;32m    281\u001b[0m         \u001b[38;5;124mf\u001b[39m\u001b[38;5;124m\"\u001b[39m\u001b[38;5;124mIPython won\u001b[39m\u001b[38;5;124m'\u001b[39m\u001b[38;5;124mt let you open fd=\u001b[39m\u001b[38;5;132;01m{\u001b[39;00mfile\u001b[38;5;132;01m}\u001b[39;00m\u001b[38;5;124m by default \u001b[39m\u001b[38;5;124m\"\u001b[39m\n\u001b[0;32m    282\u001b[0m         \u001b[38;5;124m\"\u001b[39m\u001b[38;5;124mas it is likely to crash IPython. If you know what you are doing, \u001b[39m\u001b[38;5;124m\"\u001b[39m\n\u001b[0;32m    283\u001b[0m         \u001b[38;5;124m\"\u001b[39m\u001b[38;5;124myou can use builtins\u001b[39m\u001b[38;5;124m'\u001b[39m\u001b[38;5;124m open.\u001b[39m\u001b[38;5;124m\"\u001b[39m\n\u001b[0;32m    284\u001b[0m     )\n\u001b[1;32m--> 286\u001b[0m \u001b[38;5;28;01mreturn\u001b[39;00m io_open(file, \u001b[38;5;241m*\u001b[39margs, \u001b[38;5;241m*\u001b[39m\u001b[38;5;241m*\u001b[39mkwargs)\n",
      "\u001b[1;31mFileNotFoundError\u001b[0m: [Errno 2] No such file or directory: 'numbers.txt'"
     ]
    }
   ],
   "source": [
    "# Open the file 'numbers.txt' in read mode. 'r' means read.\n",
    "with open('numbers.txt', 'r') as file:\n",
    "    # Read each line in the file\n",
    "    for line in file:\n",
    "        # Since each line represents an integer, we remove any trailing newline characters using strip()\n",
    "        number = line.strip()\n",
    "        # Then we print the number. This will display the number on the screen.\n",
    "        print(number)\n",
    "# After the 'with' block, the file is automatically closed. No need to explicitly close it.\n"
   ]
  },
  {
   "cell_type": "markdown",
   "id": "e6b86908",
   "metadata": {},
   "source": [
    "Explanation: The code uses the with statement to open the file at the specified location in 'read' mode ('r'). This mode is used when we want to get information from a file. Inside the with block, it loops through each line in the file using a for loop. Each line is expected to contain a number. The strip() method is used to remove any extra whitespace or newline characters from each line. Then, the print function is used to display each number in the terminal or console. The with statement ensures that the file is automatically closed after the loop finishes"
   ]
  },
  {
   "cell_type": "markdown",
   "id": "68ab8b6f",
   "metadata": {},
   "source": [
    "# Programming Exercise 6\n",
    "Write a program that calculate the average of all the number stored in the file, assume a file containing a series of integers is named numbers.txt"
   ]
  },
  {
   "cell_type": "code",
   "execution_count": 7,
   "id": "98afd2a2",
   "metadata": {},
   "outputs": [
    {
     "ename": "FileNotFoundError",
     "evalue": "[Errno 2] No such file or directory: 'numbers.txt'",
     "output_type": "error",
     "traceback": [
      "\u001b[1;31m---------------------------------------------------------------------------\u001b[0m",
      "\u001b[1;31mFileNotFoundError\u001b[0m                         Traceback (most recent call last)",
      "Cell \u001b[1;32mIn[7], line 6\u001b[0m\n\u001b[0;32m      3\u001b[0m count \u001b[38;5;241m=\u001b[39m \u001b[38;5;241m0\u001b[39m\n\u001b[0;32m      5\u001b[0m \u001b[38;5;66;03m# Open the file 'numbers.txt' in read mode ('r' means read).\u001b[39;00m\n\u001b[1;32m----> 6\u001b[0m \u001b[38;5;28;01mwith\u001b[39;00m \u001b[38;5;28mopen\u001b[39m(\u001b[38;5;124m'\u001b[39m\u001b[38;5;124mnumbers.txt\u001b[39m\u001b[38;5;124m'\u001b[39m, \u001b[38;5;124m'\u001b[39m\u001b[38;5;124mr\u001b[39m\u001b[38;5;124m'\u001b[39m) \u001b[38;5;28;01mas\u001b[39;00m file:\n\u001b[0;32m      7\u001b[0m     \u001b[38;5;66;03m# Read each line in the file one by one\u001b[39;00m\n\u001b[0;32m      8\u001b[0m     \u001b[38;5;28;01mfor\u001b[39;00m line \u001b[38;5;129;01min\u001b[39;00m file:\n\u001b[0;32m      9\u001b[0m         \u001b[38;5;66;03m# Convert the line to an integer and add it to the total sum\u001b[39;00m\n\u001b[0;32m     10\u001b[0m         total \u001b[38;5;241m+\u001b[39m\u001b[38;5;241m=\u001b[39m \u001b[38;5;28mint\u001b[39m(line)\n",
      "File \u001b[1;32mC:\\ProgramData\\anaconda3\\Lib\\site-packages\\IPython\\core\\interactiveshell.py:286\u001b[0m, in \u001b[0;36m_modified_open\u001b[1;34m(file, *args, **kwargs)\u001b[0m\n\u001b[0;32m    279\u001b[0m \u001b[38;5;28;01mif\u001b[39;00m file \u001b[38;5;129;01min\u001b[39;00m {\u001b[38;5;241m0\u001b[39m, \u001b[38;5;241m1\u001b[39m, \u001b[38;5;241m2\u001b[39m}:\n\u001b[0;32m    280\u001b[0m     \u001b[38;5;28;01mraise\u001b[39;00m \u001b[38;5;167;01mValueError\u001b[39;00m(\n\u001b[0;32m    281\u001b[0m         \u001b[38;5;124mf\u001b[39m\u001b[38;5;124m\"\u001b[39m\u001b[38;5;124mIPython won\u001b[39m\u001b[38;5;124m'\u001b[39m\u001b[38;5;124mt let you open fd=\u001b[39m\u001b[38;5;132;01m{\u001b[39;00mfile\u001b[38;5;132;01m}\u001b[39;00m\u001b[38;5;124m by default \u001b[39m\u001b[38;5;124m\"\u001b[39m\n\u001b[0;32m    282\u001b[0m         \u001b[38;5;124m\"\u001b[39m\u001b[38;5;124mas it is likely to crash IPython. If you know what you are doing, \u001b[39m\u001b[38;5;124m\"\u001b[39m\n\u001b[0;32m    283\u001b[0m         \u001b[38;5;124m\"\u001b[39m\u001b[38;5;124myou can use builtins\u001b[39m\u001b[38;5;124m'\u001b[39m\u001b[38;5;124m open.\u001b[39m\u001b[38;5;124m\"\u001b[39m\n\u001b[0;32m    284\u001b[0m     )\n\u001b[1;32m--> 286\u001b[0m \u001b[38;5;28;01mreturn\u001b[39;00m io_open(file, \u001b[38;5;241m*\u001b[39margs, \u001b[38;5;241m*\u001b[39m\u001b[38;5;241m*\u001b[39mkwargs)\n",
      "\u001b[1;31mFileNotFoundError\u001b[0m: [Errno 2] No such file or directory: 'numbers.txt'"
     ]
    }
   ],
   "source": [
    "# Start by initializing the sum and count of numbers to zero\n",
    "total = 0\n",
    "count = 0\n",
    "\n",
    "# Open the file 'numbers.txt' in read mode ('r' means read).\n",
    "with open('numbers.txt', 'r') as file:\n",
    "    # Read each line in the file one by one\n",
    "    for line in file:\n",
    "        # Convert the line to an integer and add it to the total sum\n",
    "        total += int(line)\n",
    "        # Increment the count of numbers\n",
    "        count += 1\n",
    "\n",
    "# Calculate the average by dividing the total sum by the count of numbers\n",
    "average = total / count\n",
    "\n",
    "# Print the average to the screen\n",
    "print(f\"The average is: {average}\")\n"
   ]
  },
  {
   "cell_type": "markdown",
   "id": "04eef35c",
   "metadata": {},
   "source": [
    "Explanation: it sets up a space to keep track of the total of all the numbers and how many numbers there are. Then, it opens up a file called numbers.txt that we tell it to look in. It reads each number one by one, adds each number to the total, and keeps a count of how many numbers it has seen. Once it has seen all the numbers, it divides the total by the count to find the average. In the end, it shows us the average by printing it out. It's like adding up all your scores and dividing by the number of tests to find out your average score!"
   ]
  },
  {
   "cell_type": "markdown",
   "id": "7c0e1347",
   "metadata": {},
   "source": [
    "# Programming exercise 9\n",
    "Modify the program from Exercise 6"
   ]
  },
  {
   "cell_type": "code",
   "execution_count": 8,
   "id": "e562a275",
   "metadata": {},
   "outputs": [
    {
     "name": "stdout",
     "output_type": "stream",
     "text": [
      "Could not open or read the file.\n",
      "No numbers to calculate an average.\n"
     ]
    }
   ],
   "source": [
    "# Start by initializing the sum and count of numbers to zero\n",
    "total = 0\n",
    "count = 0\n",
    "\n",
    "try:\n",
    "    # Try to open the file 'numbers.txt' in read mode ('r' means read).\n",
    "    with open('numbers.txt', 'r') as file:\n",
    "        # Read each line in the file one by one\n",
    "        for line in file:\n",
    "            try:\n",
    "                # Try to convert the line to an integer and add it to the total sum\n",
    "                total += int(line)\n",
    "                # Increment the count of numbers\n",
    "                count += 1\n",
    "            except ValueError:\n",
    "                # If the line can't be converted to an integer, print an error message\n",
    "                print(f\"Could not convert the line to a number: {line.strip()}\")\n",
    "except IOError:\n",
    "    # If the file can't be opened or read, print an error message\n",
    "    print(\"Could not open or read the file.\")\n",
    "\n",
    "# If at least one number was read, calculate and print the average\n",
    "if count > 0:\n",
    "    average = total / count\n",
    "    print(f\"The average is: {average}\")\n",
    "else:\n",
    "    print(\"No numbers to calculate an average.\")\n"
   ]
  },
  {
   "cell_type": "markdown",
   "id": "085349e8",
   "metadata": {},
   "source": [
    "Explanation: this program is like a smart calculator that is now a bit more careful. It still tries to find the average of numbers in a file called numbers.txt. But now, it's ready for problems like the file not opening or something inside not being a number. If it can't open the file, it'll let you know instead of getting confused. And if it finds something that isn't a number, it won't count it and will tell you about it. It only does the math if it has at least one real number to work with. If everything goes well, it'll show you the average of the numbers it found, just like before."
   ]
  },
  {
   "cell_type": "markdown",
   "id": "df91a16d",
   "metadata": {},
   "source": [
    "# Programming Exercise 10\n",
    "Gold scores, write two programs, one will read each player's name and score as keyboard input, than save as file, another program that reads the records from the golf.txt and display them"
   ]
  },
  {
   "cell_type": "code",
   "execution_count": 9,
   "id": "d178a4e0",
   "metadata": {},
   "outputs": [
    {
     "name": "stdout",
     "output_type": "stream",
     "text": [
      "Player: Alice, Score: 72\n",
      "Player: Bob, Score: 68\n",
      "Player: Charlie, Score: 70\n"
     ]
    }
   ],
   "source": [
    "# Simulate getting player names and scores\n",
    "player_data = [(\"Alice\", 72), (\"Bob\", 68), (\"Charlie\", 70)]  # This would normally come from keyboard input\n",
    "\n",
    "# Open the file 'golf.txt' for writing. 'w' means write.\n",
    "with open('golf.txt', 'w') as file:\n",
    "    # Loop through each player's data in the list\n",
    "    for name, score in player_data:\n",
    "        # Write the player's name and score as a record in the file\n",
    "        file.write(f\"{name},{score}\\n\")\n",
    "# Open the file 'golf.txt' for reading. 'r' means read.\n",
    "with open('golf.txt', 'r') as file:\n",
    "    # Read each line in the file one by one\n",
    "    for line in file:\n",
    "        # Split the line by comma to separate the player's name and score\n",
    "        name, score = line.strip().split(',')\n",
    "        # Display the player's name and score\n",
    "        print(f\"Player: {name}, Score: {score}\")\n"
   ]
  },
  {
   "cell_type": "markdown",
   "id": "e906d51e",
   "metadata": {},
   "source": [
    "Explanation: the first part of the program (which we simulated) would normally ask for player names and scores, one at a time. Instead, we used some predefined data with player names and scores and wrote this data into a file named golf.txt, separating the name and score with a comma. The second part of the program opened the golf.txt file to read what was written. It looked at each line, which had a player's name and score, separated them, and stored them in a list."
   ]
  }
 ],
 "metadata": {
  "kernelspec": {
   "display_name": "Python 3 (ipykernel)",
   "language": "python",
   "name": "python3"
  },
  "language_info": {
   "codemirror_mode": {
    "name": "ipython",
    "version": 3
   },
   "file_extension": ".py",
   "mimetype": "text/x-python",
   "name": "python",
   "nbconvert_exporter": "python",
   "pygments_lexer": "ipython3",
   "version": "3.11.5"
  }
 },
 "nbformat": 4,
 "nbformat_minor": 5
}
