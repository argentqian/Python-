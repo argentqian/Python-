{
 "cells": [
  {
   "cell_type": "markdown",
   "id": "7864ffbe",
   "metadata": {},
   "source": [
    "# Chapter 5 Ex \n",
    "Algorithm Workbench 1, 2 \n",
    "Programming Exercises 1, 17 ('Prime Numbers), 18 (prime number list), 19 "
   ]
  },
  {
   "cell_type": "markdown",
   "id": "de22bb12",
   "metadata": {},
   "source": [
    "# Algorithm Workbench 1\n",
    "Write a function named time_ten, the function should accept an argument and display the product of its argument multiplied times 10."
   ]
  },
  {
   "cell_type": "code",
   "execution_count": 3,
   "id": "da690fbf",
   "metadata": {},
   "outputs": [
    {
     "name": "stdout",
     "output_type": "stream",
     "text": [
      "The product of 5 multiplied by 10 is: 50\n"
     ]
    }
   ],
   "source": [
    "# Define a function named times_ten that takes one argument.\n",
    "def times_ten(number):\n",
    "    # Multiply the number by 10 and return the result.\n",
    "    return number * 10\n",
    "\n",
    "product = times_ten(5)\n",
    "print(f\"The product of 5 multiplied by 10 is: {product}\")"
   ]
  },
  {
   "cell_type": "markdown",
   "id": "47045620",
   "metadata": {},
   "source": [
    "Explannation: This code defines a 'mini-program' inside your main program, which we call a function, that does a specific job: it takes any number you give it, makes it ten times bigger, and then shows you this new, bigger number. The name of this mini-program is times_ten. It's like telling your computer, \"Whenever I say 'times_ten' and give you a number, please multiply that number by 10 and tell me what you get.\""
   ]
  },
  {
   "cell_type": "markdown",
   "id": "bcc6a71c",
   "metadata": {},
   "source": [
    "# Algorithm Workbench 2\n",
    "Examine the following function header, then write a statement that calls the function, passing 12 as an argument.\n",
    "def show_value(quantity): "
   ]
  },
  {
   "cell_type": "code",
   "execution_count": 9,
   "id": "407ccf36",
   "metadata": {},
   "outputs": [
    {
     "name": "stdout",
     "output_type": "stream",
     "text": [
      "The value is: 12\n"
     ]
    }
   ],
   "source": [
    "# This is the function as provided.\n",
    "def show_value(quantity):\n",
    "    # This function now prints the value of 'quantity'.\n",
    "    print(f\"The value is: {quantity}\")\n",
    "show_value(12)"
   ]
  },
  {
   "cell_type": "markdown",
   "id": "2922722a",
   "metadata": {},
   "source": [
    "Explannnation: When you run this code, it will display the message \"The value is: 12\" in the console. The function show_value is being called with the number 12, and it uses the print function to show that number to you."
   ]
  },
  {
   "cell_type": "markdown",
   "id": "07617622",
   "metadata": {},
   "source": [
    "# Programming Exercise 1\n",
    "Write a program that asks the user to enter a distance in kilometers then converts that distance to miles, use formula : Miles = Kilometers x 0.6214"
   ]
  },
  {
   "cell_type": "code",
   "execution_count": 1,
   "id": "eb1b7757",
   "metadata": {},
   "outputs": [
    {
     "name": "stdout",
     "output_type": "stream",
     "text": [
      "Enter distance in kilometers: 62\n",
      "The distance in miles is: 38.526799999999994\n"
     ]
    }
   ],
   "source": [
    "# Ask the user to enter a distance in kilometers.\n",
    "kilometers = float(input(\"Enter distance in kilometers: \"))\n",
    "\n",
    "# Convert the distance to miles using the conversion formula.\n",
    "miles = kilometers * 0.6214\n",
    "\n",
    "# Display the distance in miles.\n",
    "print(f\"The distance in miles is: {miles}\")"
   ]
  },
  {
   "cell_type": "markdown",
   "id": "9ff8afea",
   "metadata": {},
   "source": [
    "Explannation: The program starts by asking you to type in a distance in kilometers. After you enter the distance, it takes that number and multiplies it by 0.6214 because that's how you change kilometers into miles. Then, it shows you the result in miles. It's a handy way to figure out how far something is in miles if you only"
   ]
  },
  {
   "cell_type": "markdown",
   "id": "d1943635",
   "metadata": {},
   "source": [
    "# Programming Exercise 17\n",
    "Prime numbers, write a Boolean function named is_prime which takes an integer as an argument and returns trues if the argument is a prime number, or false.display if the number is prime"
   ]
  },
  {
   "cell_type": "code",
   "execution_count": 2,
   "id": "d3826290",
   "metadata": {},
   "outputs": [
    {
     "name": "stdout",
     "output_type": "stream",
     "text": [
      "Enter a number to check if it's prime: 199\n",
      "199 is a prime number.\n"
     ]
    }
   ],
   "source": [
    "# Define a function to check if a number is prime.\n",
    "def is_prime(number):\n",
    "    # If the number is less than 2, it is not prime.\n",
    "    if number < 2:\n",
    "        return False\n",
    "    # Check for factors of number from 2 to the square root of the number.\n",
    "    for i in range(2, int(number**0.5) + 1):\n",
    "        # If number is divisible by i, then it is not prime.\n",
    "        if number % i == 0:\n",
    "            return False\n",
    "    # If no factors are found, the number is prime.\n",
    "    return True\n",
    "\n",
    "# Ask the user to enter a number.\n",
    "user_number = int(input(\"Enter a number to check if it's prime: \"))\n",
    "\n",
    "# Use the is_prime function to check if the number is prime.\n",
    "if is_prime(user_number):\n",
    "    print(f\"{user_number} is a prime number.\")\n",
    "else:\n",
    "    print(f\"{user_number} is not a prime number.\")\n"
   ]
  },
  {
   "cell_type": "markdown",
   "id": "4b2c7aec",
   "metadata": {},
   "source": [
    "Explannation: The program defines a special task named is_prime that can figure out if the number you give it is a prime number or not. A prime number is one that you can't divide evenly by any other number except 1 and itself. The program then asks you to give it a number to check. Once you type in a number, it uses the is_prime task to see if your number is prime. After it finishes checking, it will tell you whether your number is prime or not. If it is prime, it'll say \"199 is a prime number.\" If not, it'll say \"199 is not a prime number.\""
   ]
  },
  {
   "cell_type": "markdown",
   "id": "bb8c2bb5",
   "metadata": {},
   "source": [
    "# Programming Exercise 18 \n",
    "Prime number list, write another program that displays all the prime numbers from 1 to 100, the program should have a loop that calls it_prime function"
   ]
  },
  {
   "cell_type": "code",
   "execution_count": 3,
   "id": "f01dfb03",
   "metadata": {},
   "outputs": [
    {
     "name": "stdout",
     "output_type": "stream",
     "text": [
      "2 is a prime number.\n",
      "3 is a prime number.\n",
      "5 is a prime number.\n",
      "7 is a prime number.\n",
      "11 is a prime number.\n",
      "13 is a prime number.\n",
      "17 is a prime number.\n",
      "19 is a prime number.\n",
      "23 is a prime number.\n",
      "29 is a prime number.\n",
      "31 is a prime number.\n",
      "37 is a prime number.\n",
      "41 is a prime number.\n",
      "43 is a prime number.\n",
      "47 is a prime number.\n",
      "53 is a prime number.\n",
      "59 is a prime number.\n",
      "61 is a prime number.\n",
      "67 is a prime number.\n",
      "71 is a prime number.\n",
      "73 is a prime number.\n",
      "79 is a prime number.\n",
      "83 is a prime number.\n",
      "89 is a prime number.\n",
      "97 is a prime number.\n",
      "These are all the prime numbers between 1 and 100.\n"
     ]
    }
   ],
   "source": [
    "# Use the is_prime function from the previous example.\n",
    "def is_prime(number):\n",
    "    if number < 2:\n",
    "        return False\n",
    "    for i in range(2, int(number**0.5) + 1):\n",
    "        if number % i == 0:\n",
    "            return False\n",
    "    return True\n",
    "\n",
    "# Create a loop to check each number from 1 to 100.\n",
    "for number in range(1, 101):  # Starts at 1 and goes up to 100\n",
    "    # Call the is_prime function to check if the number is prime.\n",
    "    if is_prime(number):\n",
    "        # If the number is prime, print it.\n",
    "        print(number, \"is a prime number.\")\n",
    "\n",
    "# At the end of the program, print a message.\n",
    "print(\"These are all the prime numbers between 1 and 100.\")"
   ]
  },
  {
   "cell_type": "markdown",
   "id": "be35130a",
   "metadata": {},
   "source": [
    "Explnation: This program uses the is_prime task we defined earlier to check each number from 1 to 100. It goes through each number one by one and asks, \"Hey, is_prime, is this number a prime number?\" If is_prime says yes, the program prints out the number and tells you it's a prime number. After it checks all the numbers up to 100, it prints out a message saying that these are all the prime numbers between 1 and 100"
   ]
  },
  {
   "cell_type": "markdown",
   "id": "a7a9b335",
   "metadata": {},
   "source": [
    "# Programming Exercuse 19\n",
    "Suppose you have certain amount of money in savings account that earns compound monthly interest, and write a program to calculate the amount you will have after specific number of month "
   ]
  },
  {
   "cell_type": "code",
   "execution_count": 4,
   "id": "5548b739",
   "metadata": {},
   "outputs": [
    {
     "name": "stdout",
     "output_type": "stream",
     "text": [
      "Enter the present value of the account: 883554\n",
      "Enter the monthly interest rate (as a decimal): 0.04\n",
      "Enter the number of months: 12\n",
      "The future value of the account after 12 months will be: 1414598.42\n"
     ]
    }
   ],
   "source": [
    "# Define a function to calculate the future value of an account with compound interest.\n",
    "def calculate_future_value(present_value, monthly_interest_rate, months):\n",
    "    # Calculate the future value using the compound interest formula.\n",
    "    future_value = present_value * ((1 + monthly_interest_rate) ** months)\n",
    "    # Return the calculated future value.\n",
    "    return future_value\n",
    "\n",
    "# Ask the user for the present value of the account.\n",
    "present_value = float(input(\"Enter the present value of the account: \"))\n",
    "\n",
    "# Ask the user for the monthly interest rate (as a decimal).\n",
    "monthly_interest_rate = float(input(\"Enter the monthly interest rate (as a decimal): \"))\n",
    "\n",
    "# Ask the user for the number of months.\n",
    "months = int(input(\"Enter the number of months: \"))\n",
    "\n",
    "# Call the function to calculate the future value.\n",
    "future_value = calculate_future_value(present_value, monthly_interest_rate, months)\n",
    "\n",
    "# Display the future value to the user.\n",
    "print(f\"The future value of the account after {months} months will be: {future_value:.2f}\")\n"
   ]
  },
  {
   "cell_type": "markdown",
   "id": "960266b1",
   "metadata": {},
   "source": [
    "Explanation: This program helps you figure out how much money you'll have in the future if you earn interest every month. It asks you for three things: how much money you're starting with, what the monthly interest rate is (like if you get 1% interest, you'd type 0.01), and how many months you're going to leave the money to grow. Then it uses a special math formula to calculate your future money, considering the interest that adds up each month. Finally, it tells you the result, showing you how much money you can expect to have after the given time. "
   ]
  }
 ],
 "metadata": {
  "kernelspec": {
   "display_name": "Python 3 (ipykernel)",
   "language": "python",
   "name": "python3"
  },
  "language_info": {
   "codemirror_mode": {
    "name": "ipython",
    "version": 3
   },
   "file_extension": ".py",
   "mimetype": "text/x-python",
   "name": "python",
   "nbconvert_exporter": "python",
   "pygments_lexer": "ipython3",
   "version": "3.11.5"
  }
 },
 "nbformat": 4,
 "nbformat_minor": 5
}
