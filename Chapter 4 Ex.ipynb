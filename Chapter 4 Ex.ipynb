{
 "cells": [
  {
   "cell_type": "markdown",
   "id": "68f757cc",
   "metadata": {},
   "source": [
    "# Chapter 4 Excercises \n",
    "Algorithm Workbench 1, 2 \n",
    "Programming Exercises 1, 4, 11, 14"
   ]
  },
  {
   "cell_type": "markdown",
   "id": "ec4dea4e",
   "metadata": {},
   "source": [
    "# Programing Excercises 1 \n",
    "Bug collector: Write a program for a bug collector who will be collecting bugs for 5 days and calculate the total number of bugs collected"
   ]
  },
  {
   "cell_type": "code",
   "execution_count": 1,
   "id": "5b0451e1",
   "metadata": {},
   "outputs": [
    {
     "name": "stdout",
     "output_type": "stream",
     "text": [
      "Enter the number of bugs collected on day 1: 20\n",
      "Enter the number of bugs collected on day 2: 8\n",
      "Enter the number of bugs collected on day 3: 3\n",
      "Enter the number of bugs collected on day 4: 2\n",
      "Enter the number of bugs collected on day 5: 1\n",
      "The total number of bugs collected over five days is: 34\n"
     ]
    }
   ],
   "source": [
    "# Initialize a variable to keep track of the total number of bugs.\n",
    "total_bugs = 0\n",
    "\n",
    "# Use a loop to repeat asking for the number of bugs for five days.\n",
    "for day in range(1, 6):  # Starts at day 1 and goes up to (but not including) day 6.\n",
    "    # Ask the user to enter the number of bugs collected on this day.\n",
    "    bugs_collected = int(input(f\"Enter the number of bugs collected on day {day}: \"))\n",
    "    # Add the number of bugs collected on this day to the total number of bugs.\n",
    "    total_bugs += bugs_collected\n",
    "\n",
    "# After the loop, print the total number of bugs collected.\n",
    "print(f\"The total number of bugs collected over five days is: {total_bugs}\")"
   ]
  },
  {
   "cell_type": "markdown",
   "id": "eedbf9f0",
   "metadata": {},
   "source": [
    "Explannation: The program is like a digital notebook that keeps count of all the bugs a collector gathers each day for five days. Each day, it asks, \"How many bugs did you collect today?\" and waits for an answer. When you tell it how many bugs you got, it adds that number to a running total. After five days, it adds up all the bugs from each day and tells you the grand total. It's a simple way to keep track of bug collecting without having to remember all the numbers yourself."
   ]
  },
  {
   "cell_type": "markdown",
   "id": "526156c7",
   "metadata": {},
   "source": [
    "# Programing Excercise 4\n",
    "Distance Travedled: Use distance = speed x time to write a program that asks the user for the speed of a vehicle in miles, and the number of hours it has traveled."
   ]
  },
  {
   "cell_type": "code",
   "execution_count": 2,
   "id": "490b0d54",
   "metadata": {},
   "outputs": [
    {
     "name": "stdout",
     "output_type": "stream",
     "text": [
      "What is the speed of the vehicle in mph? 88\n",
      "How many hours has it traveled? 3\n",
      "Hour\tDistance Traveled\n",
      "1\t88\n",
      "2\t176\n",
      "3\t264\n"
     ]
    }
   ],
   "source": [
    "# Ask the user for the vehicle's speed in miles per hour.\n",
    "speed = int(input(\"What is the speed of the vehicle in mph? \"))\n",
    "\n",
    "# Ask the user for the total hours traveled.\n",
    "hours = int(input(\"How many hours has it traveled? \"))\n",
    "\n",
    "# Print the table header.\n",
    "print(\"Hour\\tDistance Traveled\")\n",
    "\n",
    "# Loop over each hour and calculate the distance traveled.\n",
    "for hour in range(1, hours + 1):  # Starts at hour 1 and goes up to the number of hours.\n",
    "    distance = speed * hour  # Calculate distance for the current hour.\n",
    "    print(f\"{hour}\\t{distance}\")  # Print the current hour and the distance traveled."
   ]
  },
  {
   "cell_type": "markdown",
   "id": "5e25829f",
   "metadata": {},
   "source": [
    "Explannation: The program first asks you how fast your vehicle is going in miles per hour and then how long, in hours, you've been traveling at that speed. It then prints a little table with two columns labeled \"Hour\" and \"Distance Traveled.\" For each hour you've been traveling, it calculates how far you would have gone by multiplying the speed by the hour. It does this for each hour up to the total number of hours you entered, giving you a row in the table for each hour showing the total distance traveled up to that point."
   ]
  },
  {
   "cell_type": "markdown",
   "id": "214a3e04",
   "metadata": {},
   "source": [
    "# Programming Excercise 11\n",
    "Weight loss, write a program that lets the user enter their starting weight, then creates and display a table showing what their expected weight will be at the end of each month for the next 6 month if they stays on diet. \n"
   ]
  },
  {
   "cell_type": "code",
   "execution_count": 3,
   "id": "89880937",
   "metadata": {},
   "outputs": [
    {
     "name": "stdout",
     "output_type": "stream",
     "text": [
      "Enter your starting weight (in pounds): 145\n",
      "Month\tExpected Weight\n",
      "1\t141.0\n",
      "2\t137.0\n",
      "3\t133.0\n",
      "4\t129.0\n",
      "5\t125.0\n",
      "6\t121.0\n"
     ]
    }
   ],
   "source": [
    "# Ask the user to enter their starting weight.\n",
    "starting_weight = float(input(\"Enter your starting weight (in pounds): \"))\n",
    "\n",
    "# Define the weight loss per month.\n",
    "weight_loss_per_month = 4\n",
    "\n",
    "# Print the header of the table.\n",
    "print(\"Month\\tExpected Weight\")\n",
    "\n",
    "# Loop over the next 6 months to calculate and display the expected weight loss.\n",
    "for month in range(1, 7):  # Starts at month 1 and ends at month 6.\n",
    "    # Calculate the expected weight after weight loss.\n",
    "    expected_weight = starting_weight - (weight_loss_per_month * month)\n",
    "    # Print the month number and the expected weight.\n",
    "    print(f\"{month}\\t{expected_weight}\")\n"
   ]
  },
  {
   "cell_type": "markdown",
   "id": "0866f9f9",
   "metadata": {},
   "source": [
    "Explannation: When you run this program, it first asks you to type in your current weight. Then it starts a countdown, showing how much you would weigh at the end of each month for 6 months if you lost 4 pounds every month. It prints a little table with the month number on the left and your expected weight on the right. With each month that goes by, it shows your weight going down by 4 pounds from where you started."
   ]
  },
  {
   "cell_type": "markdown",
   "id": "0d36aa8f",
   "metadata": {},
   "source": [
    "# Programming Excercise 14\n",
    "Write a program that uses nested loops to draw the pattern"
   ]
  },
  {
   "cell_type": "code",
   "execution_count": 4,
   "id": "ea5b1474",
   "metadata": {},
   "outputs": [
    {
     "name": "stdout",
     "output_type": "stream",
     "text": [
      "* * * * * * * \n",
      "* * * * * * \n",
      "* * * * * \n",
      "* * * * \n",
      "* * * \n",
      "* * \n",
      "* \n"
     ]
    }
   ],
   "source": [
    "# Determine the number of rows for the pattern\n",
    "rows = 7\n",
    "\n",
    "# Use a loop to handle each row\n",
    "for i in range(rows, 0, -1):  # Starts at 7 and counts down to 1\n",
    "    # For each row, print that number of asterisks\n",
    "    for j in range(i):  # Repeats i times for each row\n",
    "        print('*', end=' ')  # Prints an asterisk without moving to the next line\n",
    "    print()  # After printing all asterisks for a row, move to the next line"
   ]
  },
  {
   "cell_type": "markdown",
   "id": "6f806f01",
   "metadata": {},
   "source": [
    "Explanntaion: This program creates a pattern of stars that look like a triangle. It starts at the top with 7 stars and takes away one star in each row as it moves down. It does this by using two loops: the first loop tells the program which row it's on, starting from row 7 down to row 1. The second loop, which is inside the first one, takes care of printing the right number of stars for each row. After it prints the stars for one row, it goes to the next line and starts the process again until it reaches the last row with just one star."
   ]
  },
  {
   "cell_type": "markdown",
   "id": "2b74e896",
   "metadata": {},
   "source": [
    "# Algorithm Workbench 1 \n",
    "Write a while look that lets the user enter a number, the number should be multiplied by 10"
   ]
  },
  {
   "cell_type": "code",
   "execution_count": 5,
   "id": "af46ce31",
   "metadata": {},
   "outputs": [
    {
     "name": "stdout",
     "output_type": "stream",
     "text": [
      "Enter a number: 22\n",
      "The product is 220\n",
      "The product is now 100 or greater.\n"
     ]
    }
   ],
   "source": [
    "# Initialize the variable 'product' to 0 to start the loop.\n",
    "product = 0\n",
    "\n",
    "# Start a loop that will continue as long as 'product' is less than 100.\n",
    "while product < 100:\n",
    "    # Ask the user to enter a number.\n",
    "    number = int(input(\"Enter a number: \"))\n",
    "    # Multiply the number by 10 and store the result in 'product'.\n",
    "    product = number * 10\n",
    "    # Print the product.\n",
    "    print(f\"The product is {product}\")\n",
    "\n",
    "# Once the loop ends, print that the product is now 100 or greater.\n",
    "print(\"The product is now 100 or greater.\")"
   ]
  },
  {
   "cell_type": "markdown",
   "id": "1e5a3714",
   "metadata": {},
   "source": [
    "Explannation: This program repeatedly asks you to give it a number. It takes that number and multiplies it by 10, then remembers the result as product. It keeps asking for numbers and doing the multiplication until the result is 100 or more. Once product reaches 100 or goes above it, the program stops and tells you that product is now 100 or greater."
   ]
  },
  {
   "cell_type": "markdown",
   "id": "58942452",
   "metadata": {},
   "source": [
    "# Algorithm Workbench 2\n",
    "Write a while loop that ask the user to enter two numbers, the numbers whould be added and sum displayed. "
   ]
  },
  {
   "cell_type": "code",
   "execution_count": 6,
   "id": "28c156a9",
   "metadata": {},
   "outputs": [
    {
     "name": "stdout",
     "output_type": "stream",
     "text": [
      "Enter the first number: 5\n",
      "Enter the second number: 6\n",
      "The sum of the two numbers is: 11\n",
      "Do you want to add two more numbers? (yes/no): Yes\n",
      "Enter the first number: 96\n",
      "Enter the second number: 66\n",
      "The sum of the two numbers is: 162\n",
      "Do you want to add two more numbers? (yes/no): No\n",
      "Goodbye!\n"
     ]
    }
   ],
   "source": [
    "# Start a loop that will continue until the user decides to stop.\n",
    "while True:\n",
    "    # Ask the user to enter the first number and convert it to an integer.\n",
    "    number1 = int(input(\"Enter the first number: \"))\n",
    "    # Ask the user to enter the second number and convert it to an integer.\n",
    "    number2 = int(input(\"Enter the second number: \"))\n",
    "\n",
    "    # Add the two numbers and store the result in 'sum'.\n",
    "    sum = number1 + number2\n",
    "    # Print the sum of the two numbers.\n",
    "    print(f\"The sum of the two numbers is: {sum}\")\n",
    "\n",
    "    # Ask the user if they want to perform the operation again.\n",
    "    repeat = input(\"Do you want to add two more numbers? (yes/no): \").lower()\n",
    "    # If the user types 'no', break out of the loop.\n",
    "    if repeat == 'no':\n",
    "        break\n",
    "\n",
    "# Print a goodbye message when the loop ends.\n",
    "print(\"Goodbye!\")"
   ]
  },
  {
   "cell_type": "markdown",
   "id": "c8236fce",
   "metadata": {},
   "source": [
    "Explannation: This program is like a calculator that only adds two numbers. It asks for one number, then another, and tells you what the two added together make. After showing you the sum, it asks if you want to do it all over again with new numbers. If you say 'yes', it starts over. If you say 'no', it stops and says goodbye. It's a helpful way to add up lots of pairs of numbers without having to start the program each time."
   ]
  }
 ],
 "metadata": {
  "kernelspec": {
   "display_name": "Python 3 (ipykernel)",
   "language": "python",
   "name": "python3"
  },
  "language_info": {
   "codemirror_mode": {
    "name": "ipython",
    "version": 3
   },
   "file_extension": ".py",
   "mimetype": "text/x-python",
   "name": "python",
   "nbconvert_exporter": "python",
   "pygments_lexer": "ipython3",
   "version": "3.11.5"
  }
 },
 "nbformat": 4,
 "nbformat_minor": 5
}
