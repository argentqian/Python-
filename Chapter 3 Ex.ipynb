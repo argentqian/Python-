{
 "cells": [
  {
   "cell_type": "markdown",
   "id": "893dab6b",
   "metadata": {},
   "source": [
    "# Chapter 3 Ex \n",
    "Algorithm Workbench 4, 5 \n",
    "Programing exercise 1, 5, 15, 16"
   ]
  },
  {
   "cell_type": "markdown",
   "id": "a59de4be",
   "metadata": {},
   "source": [
    "# Algorithm Workbench 4: \n",
    "The following code contains several nested if-else statement, rewrite the code and use the proper conventions of alignment and indentation. "
   ]
  },
  {
   "cell_type": "code",
   "execution_count": 1,
   "id": "301d8404",
   "metadata": {},
   "outputs": [
    {
     "name": "stdout",
     "output_type": "stream",
     "text": [
      "What is your score? 20\n",
      "Your grade is F.\n"
     ]
    }
   ],
   "source": [
    "# Define the threshold scores for each grade\n",
    "A_score = 90  # This means 90 and above is an A\n",
    "B_score = 80  # This means 80 to 89 is a B\n",
    "C_score = 70  # This means 70 to 79 is a C\n",
    "D_score = 60  # This means 60 to 69 is a D\n",
    "# Any score below 60 is an F\n",
    "\n",
    "# Ask the user to enter their score\n",
    "score = int(input(\"What is your score? \"))\n",
    "\n",
    "# Now we start checking the score against the grade thresholds\n",
    "if score >= A_score:  # If the score is A or higher, we'll tell you that you got an A\n",
    "    print('Your grade is A.')\n",
    "elif score >= B_score:  # If the score is B or higher (but less than A), you got a B\n",
    "    print('Your grade is B.')\n",
    "elif score >= C_score:  # If the score is C or higher (but less than B), it's a C\n",
    "    print('Your grade is C.')\n",
    "elif score >= D_score:  # If the score is D or higher (but less than C), you got a D\n",
    "    print('Your grade is D.')\n",
    "else:  # If it's not higher than the score for a D, then it's an F\n",
    "    print('Your grade is F.')"
   ]
  },
  {
   "cell_type": "markdown",
   "id": "c53e53de",
   "metadata": {},
   "source": [
    "Explannation: The code is like a ladder or a series of steps checking your score to see which grade you get in class. You start at the top of the ladder, where the best grade is, which is an 'A'. If your score is high enough, you get an 'A' and stop there. If it's not high enough, you go down to the next step to see if you get a 'B'. This keeps going until you find out which grade your score fits. If your score isn't high enough for an 'A', 'B', 'C', or 'D', then you end up with an 'F'. Each step checks if your score is above a certain number for each grade. "
   ]
  },
  {
   "cell_type": "markdown",
   "id": "9d6f8b87",
   "metadata": {},
   "source": [
    "# Algorithm Workbench 5: \n",
    "Write nested decision structures that perform the following: of amount 1 is greater than 10 and amount 2 is less than 100, display the greater of amount1 and amount2: "
   ]
  },
  {
   "cell_type": "code",
   "execution_count": 4,
   "id": "99f5da90",
   "metadata": {},
   "outputs": [
    {
     "name": "stdout",
     "output_type": "stream",
     "text": [
      "Enter the first number: 88\n",
      "Enter the second number: 20\n",
      "The greater number is: 88\n"
     ]
    }
   ],
   "source": [
    "# Ask the user to input the first amount and convert it to an integer.\n",
    "amount1 = int(input(\"Enter the first number: \"))\n",
    "\n",
    "# Ask the user to input the second amount and convert it to an integer.\n",
    "amount2 = int(input(\"Enter the second number: \"))\n",
    "\n",
    "# Check if the first amount is greater than 10.\n",
    "if amount1 > 10:\n",
    "    # Inside the first 'if', check if the second amount is less than 100.\n",
    "    if amount2 < 100:\n",
    "        # Inside the second 'if', check which amount is greater and display it.\n",
    "        if amount1 > amount2:\n",
    "            print(\"The greater number is:\", amount1)\n",
    "        else:\n",
    "            print(\"The greater number is:\", amount2)\n",
    "    else:\n",
    "        # If amount2 is not less than 100, print a message.\n",
    "        print(\"The second number should be less than 100.\")\n",
    "else:\n",
    "    # If amount1 is not greater than 10, print a message.\n",
    "    print(\"The first number should be greater than 10.\")"
   ]
  },
  {
   "cell_type": "markdown",
   "id": "5e6e81c8",
   "metadata": {},
   "source": [
    "Explannation: The program first asks for two numbers. It then checks if the first number is more than 10 and if the second number is less than 100. If both these things are true, the program looks at which number is bigger and tells you that number. If the first number isn't more than 10, or the second number isn't less than 100, the program gives a message to let you know what's wrong."
   ]
  },
  {
   "cell_type": "markdown",
   "id": "2c435b17",
   "metadata": {},
   "source": [
    "# Programming Exercise 1 \n",
    "Day of the week, write a program that asks the user for a number in the range 1 - 7. the program display the corresponding day of the week, and display an error message if the user enters a number outside the range 1 - 7 "
   ]
  },
  {
   "cell_type": "code",
   "execution_count": 5,
   "id": "8949a62f",
   "metadata": {},
   "outputs": [
    {
     "name": "stdout",
     "output_type": "stream",
     "text": [
      "Enter a number (1-7) for the day of the week: 6\n",
      "Saturday\n"
     ]
    }
   ],
   "source": [
    "# Ask the user to input a number between 1 and 7.\n",
    "day_number = int(input(\"Enter a number (1-7) for the day of the week: \"))\n",
    "\n",
    "# Match the input number to the day of the week.\n",
    "if day_number == 1:\n",
    "    print(\"Monday\")  # 1 means Monday.\n",
    "elif day_number == 2:\n",
    "    print(\"Tuesday\")  # 2 means Tuesday.\n",
    "elif day_number == 3:\n",
    "    print(\"Wednesday\")  # 3 means Wednesday.\n",
    "elif day_number == 4:\n",
    "    print(\"Thursday\")  # 4 means Thursday.\n",
    "elif day_number == 5:\n",
    "    print(\"Friday\")  # 5 means Friday.\n",
    "elif day_number == 6:\n",
    "    print(\"Saturday\")  # 6 means Saturday.\n",
    "elif day_number == 7:\n",
    "    print(\"Sunday\")  # 7 means Sunday.\n",
    "else:\n",
    "    # If the number is not between 1 and 7, print an error message.\n",
    "    print(\"Error: Please enter a number between 1 and 7.\")"
   ]
  },
  {
   "cell_type": "markdown",
   "id": "dfb870cf",
   "metadata": {},
   "source": [
    "Explannation: The program starts by asking you to choose a number between 1 and 7, each representing a day of the week starting with Monday. Once you type in a number, it tells you which day of the week it is. For example, if you type '1', it says 'Monday'; if you type '2', it says 'Tuesday', and so on until '7' for 'Sunday'. If you type in a number that's not between 1 and 7, it gives you an error message because those numbers don't match any day of the week."
   ]
  },
  {
   "cell_type": "markdown",
   "id": "56cd8953",
   "metadata": {},
   "source": [
    "# programming Exercise 5\n",
    "Mass and weight, write a program that asks the user to enter an object's mass, than calculates its weight by the formula of Weight = mass x 9.8 "
   ]
  },
  {
   "cell_type": "code",
   "execution_count": 6,
   "id": "abf10811",
   "metadata": {},
   "outputs": [
    {
     "name": "stdout",
     "output_type": "stream",
     "text": [
      "Enter the object's mass in kilograms: 585\n",
      "The object is too heavy.\n"
     ]
    }
   ],
   "source": [
    "# Ask the user to enter the mass of an object in kilograms.\n",
    "mass = float(input(\"Enter the object's mass in kilograms: \"))\n",
    "\n",
    "# Calculate the weight in newtons using the formula.\n",
    "weight = mass * 9.8\n",
    "\n",
    "# Check if the weight is too heavy, too light, or just right.\n",
    "if weight > 500:\n",
    "    print(\"The object is too heavy.\")  # If more than 500 newtons, it's too heavy.\n",
    "elif weight < 100:\n",
    "    print(\"The object is too light.\")  # If less than 100 newtons, it's too light.\n",
    "else:\n",
    "    print(\"The object weighs\", weight, \"newtons.\")  # If between 100 and 500 newtons, it's just right."
   ]
  },
  {
   "cell_type": "markdown",
   "id": "ae99496a",
   "metadata": {},
   "source": [
    "Explannation: This program works by first asking you to type in how much an object weighs in kilograms. Then it uses the special number 9.8 (that's how much pull gravity has) to find out how heavy that object would be in newtons, which is another way of measuring how heavy something is. After that, it checks if the weight in newtons is more than 500 or less than 100. If it's more than 500, it tells you that the object is too heavy. If it's less than 100, it tells you the object is too light. If the weight is between 100 and 500, it just tells you the weight in newtons."
   ]
  },
  {
   "cell_type": "markdown",
   "id": "b2754879",
   "metadata": {},
   "source": [
    "# Programming Exercise 15\n",
    "Time calculator, write a program that asks the user to enter a number of seconds and works as convertion into minutes and hours and day: \n"
   ]
  },
  {
   "cell_type": "code",
   "execution_count": 7,
   "id": "8d9df940",
   "metadata": {},
   "outputs": [
    {
     "name": "stdout",
     "output_type": "stream",
     "text": [
      "Please enter the number of seconds: 5415489646\n",
      "5415489646 seconds is 90258160 minute(s) and 46 second(s).\n",
      "5415489646 seconds is 1504302 hour(s), 40 minute(s), and 46 second(s).\n",
      "5415489646 seconds is 62679 day(s), 6 hour(s), 40 minute(s), and 46 second(s).\n"
     ]
    }
   ],
   "source": [
    "# Ask the user to enter the total number of seconds.\n",
    "total_seconds = int(input(\"Please enter the number of seconds: \"))\n",
    "\n",
    "# There are 60 seconds in a minute. If the number of seconds is 60 or more, we'll convert it to minutes and seconds.\n",
    "if total_seconds >= 60:\n",
    "    # Calculate the number of minutes and the remaining seconds.\n",
    "    minutes = total_seconds // 60  # Finds out how many full minutes\n",
    "    seconds = total_seconds % 60   # Finds out the remaining seconds\n",
    "    print(f\"{total_seconds} seconds is {minutes} minute(s) and {seconds} second(s).\")\n",
    "    \n",
    "    # There are 3,600 seconds in an hour. If the number of seconds is 3,600 or more, we'll convert it to hours, minutes, and seconds.\n",
    "    if total_seconds >= 3600:\n",
    "        # Calculate the number of hours, minutes, and the remaining seconds.\n",
    "        hours = total_seconds // 3600  # Finds out how many full hours\n",
    "        minutes = (total_seconds % 3600) // 60  # Finds out the remaining minutes\n",
    "        seconds = (total_seconds % 3600) % 60   # Finds out the remaining seconds\n",
    "        print(f\"{total_seconds} seconds is {hours} hour(s), {minutes} minute(s), and {seconds} second(s).\")\n",
    "        \n",
    "        # There are 86,400 seconds in a day. If the number of seconds is 86,400 or more, we'll convert it to days, hours, minutes, and seconds.\n",
    "        if total_seconds >= 86400:\n",
    "            # Calculate the number of days, hours, minutes, and seconds.\n",
    "            days = total_seconds // 86400  # Finds out how many full days\n",
    "            hours = (total_seconds % 86400) // 3600  # Finds out the remaining hours\n",
    "            minutes = (total_seconds % 3600) // 60  # Finds out the remaining minutes\n",
    "            seconds = (total_seconds % 3600) % 60   # Finds out the remaining seconds\n",
    "            print(f\"{total_seconds} seconds is {days} day(s), {hours} hour(s), {minutes} minute(s), and {seconds} second(s).\")\n",
    "else:\n",
    "    # If the number of seconds is less than 60, just display the seconds.\n",
    "    print(f\"{total_seconds} seconds is less than a minute.\")"
   ]
  },
  {
   "cell_type": "markdown",
   "id": "4dbbb15e",
   "metadata": {},
   "source": [
    "Explannation: This program asks you to enter how many seconds something takes. Then it tells you what that is in minutes and seconds if it's more than a minute, in hours, minutes, and seconds if it's more than an hour, or in days, hours, minutes, and seconds if it's more than a day. It does this by dividing the total number of seconds by the number of seconds in a minute, hour, or day to get the bigger time units and then finds out what's left over to get the smaller time units. If it's less than a minute, it just tells you the number of seconds."
   ]
  },
  {
   "cell_type": "markdown",
   "id": "99153759",
   "metadata": {},
   "source": [
    "# Programming Exercise 16\n",
    "February Days, February normally has 28 days, but leap years has 29 days, write  a program that ask the user to enter a year and display the number of days in febuary that year. "
   ]
  },
  {
   "cell_type": "code",
   "execution_count": 8,
   "id": "b472c41f",
   "metadata": {},
   "outputs": [
    {
     "name": "stdout",
     "output_type": "stream",
     "text": [
      "Enter a year: 2008\n",
      "In 2008, February has 29 days.\n"
     ]
    }
   ],
   "source": [
    "# Ask the user to enter a year.\n",
    "year = int(input(\"Enter a year: \"))\n",
    "\n",
    "# Check if the year is divisible by 100 to determine if it is a candidate for a leap year.\n",
    "if year % 100 == 0:\n",
    "    # If it is divisible by 100, check if it is also divisible by 400 to be a leap year.\n",
    "    if year % 400 == 0:\n",
    "        print(f\"In {year}, February has 29 days.\")  # It's a leap year with 29 days in February.\n",
    "    else:\n",
    "        print(f\"In {year}, February has 28 days.\")  # Not a leap year, 28 days in February.\n",
    "else:\n",
    "    # If the year is not divisible by 100, check if it is divisible by 4 to be a leap year.\n",
    "    if year % 4 == 0:\n",
    "        print(f\"In {year}, February has 29 days.\")  # It's a leap year with 29 days in February.\n",
    "    else:\n",
    "        print(f\"In {year}, February has 28 days.\")  # Not a leap year, 28 days in February."
   ]
  },
  {
   "cell_type": "markdown",
   "id": "e6dfa4f7",
   "metadata": {},
   "source": [
    "Explannatiion: The program starts by asking you to type in a year. It then uses rules about leap years to figure out if February has 28 or 29 days that year. First, it checks if the year can be divided evenly by 100. If it can, then it also needs to be evenly divisible by 400 to be a leap year. If it can't be divided by 100, it only needs to be divisible by 4 to be a leap year. If it's a leap year, the program will tell you that February has 29 days. If not, it will say February has 28 days.\n",
    "\n"
   ]
  }
 ],
 "metadata": {
  "kernelspec": {
   "display_name": "Python 3 (ipykernel)",
   "language": "python",
   "name": "python3"
  },
  "language_info": {
   "codemirror_mode": {
    "name": "ipython",
    "version": 3
   },
   "file_extension": ".py",
   "mimetype": "text/x-python",
   "name": "python",
   "nbconvert_exporter": "python",
   "pygments_lexer": "ipython3",
   "version": "3.11.5"
  }
 },
 "nbformat": 4,
 "nbformat_minor": 5
}
